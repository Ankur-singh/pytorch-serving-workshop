{
 "cells": [
  {
   "cell_type": "markdown",
   "id": "parental-token",
   "metadata": {},
   "source": [
    "# Setup"
   ]
  },
  {
   "cell_type": "markdown",
   "id": "round-border",
   "metadata": {},
   "source": [
    "## About\n",
    "\n",
    "\n",
    "Simple notebook to setup\n",
    "- clone git repo\n",
    "- install required python dependencies\n",
    "- download dataset\n",
    "- download trained model"
   ]
  },
  {
   "cell_type": "code",
   "execution_count": null,
   "id": "homeless-announcement",
   "metadata": {},
   "outputs": [],
   "source": [
    "%%bash\n",
    "git clone https://github.com/npatta01/pytorch-serving-workshop.git -b notebooks"
   ]
  },
  {
   "cell_type": "code",
   "execution_count": null,
   "id": "spectacular-scott",
   "metadata": {},
   "outputs": [],
   "source": [
    "%%bash\n",
    "cd pytorch-serving-workshop\n",
    "mkdir -p artifacts/dataset_processed/amazon\n",
    "mkdir -p artifacts/dataset_processed/model\n",
    "\n",
    "\n",
    "cd artifacts\n",
    "\n",
    "\n",
    "# dataset\n",
    "echo \"downloading dataset\"\n",
    "wget https://github.com/npatta01/pytorch-serving-workshop/releases/download/v0.0.1/dataset_processed.zip\n",
    "unzip dataset_processed.zip\n",
    "\n",
    "\n",
    "# model trained on above dataset\n",
    "echo \"downloading model\"\n",
    "wget https://github.com/npatta01/pytorch-serving-workshop/releases/download/v0.0.1/model.zip    \n",
    "unzip model.zip\n"
   ]
  },
  {
   "cell_type": "markdown",
   "id": "proof-discipline",
   "metadata": {},
   "source": [
    "install needed packages"
   ]
  },
  {
   "cell_type": "code",
   "execution_count": null,
   "id": "relevant-claim",
   "metadata": {},
   "outputs": [],
   "source": [
    "!pip install -r pytorch-serving-workshop/requirements.txt"
   ]
  },
  {
   "cell_type": "code",
   "execution_count": null,
   "id": "neither-shipping",
   "metadata": {},
   "outputs": [],
   "source": []
  },
  {
   "cell_type": "code",
   "execution_count": null,
   "id": "checked-priest",
   "metadata": {},
   "outputs": [],
   "source": [
    "!sudo apt-get install htop tmux -y"
   ]
  },
  {
   "cell_type": "markdown",
   "id": "immune-institution",
   "metadata": {},
   "source": [
    "## Colabcode\n",
    "Colab doesn't support multiple notebooks, so we use colabcode to setup vscode + ngrok"
   ]
  },
  {
   "cell_type": "code",
   "execution_count": null,
   "id": "insured-navigator",
   "metadata": {},
   "outputs": [],
   "source": [
    "!pip install colabcode==0.3.0"
   ]
  },
  {
   "cell_type": "code",
   "execution_count": null,
   "id": "capital-major",
   "metadata": {},
   "outputs": [],
   "source": [
    "from colabcode import ColabCode\n"
   ]
  },
  {
   "cell_type": "code",
   "execution_count": null,
   "id": "operational-spotlight",
   "metadata": {},
   "outputs": [],
   "source": [
    "ColabCode(port=10000, mount_drive=False)"
   ]
  }
 ],
 "metadata": {
  "environment": {
   "name": "rapids-gpu.0-18.m65",
   "type": "gcloud",
   "uri": "gcr.io/deeplearning-platform-release/rapids-gpu.0-18:m65"
  },
  "kernelspec": {
   "display_name": "Python [conda env:pytorch]",
   "language": "python",
   "name": "conda-env-pytorch-py"
  },
  "language_info": {
   "codemirror_mode": {
    "name": "ipython",
    "version": 3
   },
   "file_extension": ".py",
   "mimetype": "text/x-python",
   "name": "python",
   "nbconvert_exporter": "python",
   "pygments_lexer": "ipython3",
   "version": "3.7.10"
  }
 },
 "nbformat": 4,
 "nbformat_minor": 5
}
